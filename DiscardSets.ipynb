{
  "nbformat": 4,
  "nbformat_minor": 0,
  "metadata": {
    "colab": {
      "name": "DiscardSets.ipynb",
      "provenance": [],
      "authorship_tag": "ABX9TyPtM6T2V6l0H6H0G5/lqMLM",
      "include_colab_link": true
    },
    "kernelspec": {
      "name": "python3",
      "display_name": "Python 3"
    },
    "language_info": {
      "name": "python"
    }
  },
  "cells": [
    {
      "cell_type": "markdown",
      "metadata": {
        "id": "view-in-github",
        "colab_type": "text"
      },
      "source": [
        "<a href=\"https://colab.research.google.com/github/RiditaNizam/DiscardSets/blob/main/DiscardSets.ipynb\" target=\"_parent\"><img src=\"https://colab.research.google.com/assets/colab-badge.svg\" alt=\"Open In Colab\"/></a>"
      ]
    },
    {
      "cell_type": "code",
      "metadata": {
        "colab": {
          "base_uri": "https://localhost:8080/"
        },
        "id": "1upvaYYsoGFf",
        "outputId": "a1d2d7c0-f5e8-4e3d-ccc3-6126d1ef67d7"
      },
      "source": [
        "colors = {\"red\", \"yellow\", \"blue\"}\n",
        "\n",
        "def discard_color(colors):\n",
        "  print(\"Original set: \", colors)\n",
        "  colors.discard(\"yellow\")\n",
        "  print(\"After discarding yellow: \", colors)\n",
        "\n",
        "discard_color(colors)"
      ],
      "execution_count": 7,
      "outputs": [
        {
          "output_type": "stream",
          "text": [
            "Original set:  {'blue', 'red', 'yellow'}\n",
            "After discarding yellow:  {'blue', 'red'}\n"
          ],
          "name": "stdout"
        }
      ]
    }
  ]
}